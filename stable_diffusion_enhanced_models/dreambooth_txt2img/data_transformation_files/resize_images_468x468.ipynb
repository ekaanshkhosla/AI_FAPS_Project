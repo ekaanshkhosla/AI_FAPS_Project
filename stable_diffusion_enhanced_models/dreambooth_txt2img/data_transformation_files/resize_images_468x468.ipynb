{
 "cells": [
  {
   "cell_type": "code",
   "execution_count": 16,
   "id": "3a26eb8a-d505-4052-8e59-a7d40d8ffc2f",
   "metadata": {},
   "outputs": [],
   "source": [
    "from PIL import Image\n",
    "import os\n",
    "\n",
    "# Function to resize images\n",
    "def resize_images(input_folder, output_folder):\n",
    "    if not os.path.exists(output_folder):\n",
    "        os.makedirs(output_folder)\n",
    "\n",
    "    for filename in os.listdir(input_folder):\n",
    "        if filename.endswith(\".jpg\") or filename.endswith(\".png\"):  # Modify this according to your image formats\n",
    "            img_path = os.path.join(input_folder, filename)\n",
    "            with Image.open(img_path) as img:\n",
    "                # Resize to 468x468\n",
    "                img_resized = img.resize((468, 468), Image.Resampling.LANCZOS)\n",
    "                # Save the final image\n",
    "                final_img_path = os.path.join(output_folder, filename)\n",
    "                img_resized.save(final_img_path)\n",
    "\n",
    "# Specify the input and output folder paths\n",
    "input_folder = 'data_seperated_10%_filtered_images/second_view/only_gap'\n",
    "output_folder = 'data_seperated_10%_filtered_images_resized/second_view/only_gap'\n",
    "\n",
    "# Call the function\n",
    "resize_images(input_folder, output_folder)\n"
   ]
  },
  {
   "cell_type": "code",
   "execution_count": null,
   "id": "278bc0db-884a-4fa2-845a-073cd1ccda7e",
   "metadata": {},
   "outputs": [],
   "source": []
  }
 ],
 "metadata": {
  "kernelspec": {
   "display_name": "Python 3 (ipykernel)",
   "language": "python",
   "name": "python3"
  },
  "language_info": {
   "codemirror_mode": {
    "name": "ipython",
    "version": 3
   },
   "file_extension": ".py",
   "mimetype": "text/x-python",
   "name": "python",
   "nbconvert_exporter": "python",
   "pygments_lexer": "ipython3",
   "version": "3.11.7"
  }
 },
 "nbformat": 4,
 "nbformat_minor": 5
}
