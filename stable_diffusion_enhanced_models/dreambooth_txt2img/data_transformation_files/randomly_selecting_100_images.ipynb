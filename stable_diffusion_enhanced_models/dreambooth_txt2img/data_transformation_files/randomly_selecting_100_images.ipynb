{
 "cells": [
  {
   "cell_type": "code",
   "execution_count": 11,
   "id": "75da2f87-4f03-4e4b-9985-23b83435ae16",
   "metadata": {},
   "outputs": [
    {
     "name": "stdout",
     "output_type": "stream",
     "text": [
      "Processing directory: data_seperated_10%/second_view/only_gap/\n",
      "Copied 100 images from data_seperated_10%/second_view/only_gap/ to data_seperated_10%_filtered_images/second_view/only_gap/.\n"
     ]
    }
   ],
   "source": [
    "import os\n",
    "import random\n",
    "import shutil\n",
    "\n",
    "def copy_random_images(src_dir, dst_dir, num_images=100):\n",
    "    # Ensure destination directory exists\n",
    "    if not os.path.exists(dst_dir):\n",
    "        os.makedirs(dst_dir)\n",
    "        print(f\"Created destination directory: {dst_dir}\")\n",
    "\n",
    "    for root, dirs, files in os.walk(src_dir):\n",
    "        if files:\n",
    "            print(f\"Processing directory: {root}\")\n",
    "            images = [f for f in files if os.path.isfile(os.path.join(root, f))]\n",
    "            if len(images) == 0:\n",
    "                print(f\"No images found in directory: {root}\")\n",
    "                continue\n",
    "\n",
    "            # If there are fewer images than required, copy all of them\n",
    "            if len(images) < num_images:\n",
    "                selected_images = images\n",
    "            else:\n",
    "                selected_images = random.sample(images, num_images)\n",
    "\n",
    "            # Determine the relative path to preserve the directory structure\n",
    "            relative_path = os.path.relpath(root, src_dir)\n",
    "            dst_folder_path = os.path.join(dst_dir, relative_path)\n",
    "\n",
    "            # Create corresponding subfolder in the destination directory\n",
    "            if not os.path.exists(dst_folder_path):\n",
    "                os.makedirs(dst_folder_path)\n",
    "                print(f\"Created destination subfolder: {dst_folder_path}\")\n",
    "\n",
    "            # Copy selected images to the destination subfolder\n",
    "            for image in selected_images:\n",
    "                src_image_path = os.path.join(root, image)\n",
    "                dst_image_path = os.path.join(dst_folder_path, image)\n",
    "                try:\n",
    "                    shutil.copy(src_image_path, dst_image_path)\n",
    "                    # print(f\"Copied {image} to {dst_folder_path}\")\n",
    "                except Exception as e:\n",
    "                    print(f\"Error copying {image}: {e}\")\n",
    "            print(f\"Copied {len(selected_images)} images from {root} to {dst_folder_path}\")\n",
    "\n",
    "# Example usage\n",
    "src_directory = 'data_seperated_10%/second_view/only_gap/'\n",
    "dst_directory = 'data_seperated_10%_filtered_images/second_view/only_gap/'\n",
    "\n",
    "copy_random_images(src_directory, dst_directory)\n"
   ]
  },
  {
   "cell_type": "code",
   "execution_count": null,
   "id": "ca01215f-833d-414d-8461-3df0b2a9b74a",
   "metadata": {},
   "outputs": [],
   "source": []
  }
 ],
 "metadata": {
  "kernelspec": {
   "display_name": "Python 3 (ipykernel)",
   "language": "python",
   "name": "python3"
  },
  "language_info": {
   "codemirror_mode": {
    "name": "ipython",
    "version": 3
   },
   "file_extension": ".py",
   "mimetype": "text/x-python",
   "name": "python",
   "nbconvert_exporter": "python",
   "pygments_lexer": "ipython3",
   "version": "3.11.7"
  }
 },
 "nbformat": 4,
 "nbformat_minor": 5
}
