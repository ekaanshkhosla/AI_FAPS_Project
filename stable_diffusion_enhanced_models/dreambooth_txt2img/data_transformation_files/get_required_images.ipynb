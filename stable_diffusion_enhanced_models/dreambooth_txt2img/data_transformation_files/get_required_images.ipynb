{
 "cells": [
  {
   "cell_type": "code",
   "execution_count": 17,
   "id": "97c141bf-43a5-4027-9e0d-40ef89121f82",
   "metadata": {},
   "outputs": [
    {
     "name": "stdout",
     "output_type": "stream",
     "text": [
      "All specified images have been copied successfully.\n"
     ]
    }
   ],
   "source": [
    "import pandas as pd\n",
    "import shutil\n",
    "import os\n",
    "\n",
    "# Define the paths\n",
    "excel_file = 'defects_split/only_gap.xlsx' \n",
    "source_folder = 'All_data_seperated/second_view'  \n",
    "destination_folder = 'data_seperated_2/second_view/only_gap'\n",
    "\n",
    "# Create the destination folder if it doesn't exist\n",
    "os.makedirs(destination_folder, exist_ok=True)\n",
    "\n",
    "# Read the Excel file into a DataFrame\n",
    "df = pd.read_excel(excel_file)\n",
    "\n",
    "# Iterate over each image name in the DataFrame\n",
    "for image_name in df['image']:  \n",
    "    # Construct the full file paths for source and destination\n",
    "    source_path = os.path.join(source_folder, image_name)\n",
    "    destination_path = os.path.join(destination_folder, image_name)\n",
    "    \n",
    "    # Check if the source file exists\n",
    "    if os.path.exists(source_path):\n",
    "        # Copy the image from source to destination\n",
    "        shutil.copy2(source_path, destination_path)\n",
    "\n",
    "# Print a message indicating completion\n",
    "print(\"All specified images have been copied successfully.\")"
   ]
  },
  {
   "cell_type": "code",
   "execution_count": null,
   "id": "1be7aedd-a821-440a-b144-125d54013741",
   "metadata": {},
   "outputs": [],
   "source": []
  }
 ],
 "metadata": {
  "kernelspec": {
   "display_name": "Python 3 (ipykernel)",
   "language": "python",
   "name": "python3"
  },
  "language_info": {
   "codemirror_mode": {
    "name": "ipython",
    "version": 3
   },
   "file_extension": ".py",
   "mimetype": "text/x-python",
   "name": "python",
   "nbconvert_exporter": "python",
   "pygments_lexer": "ipython3",
   "version": "3.11.7"
  }
 },
 "nbformat": 4,
 "nbformat_minor": 5
}
