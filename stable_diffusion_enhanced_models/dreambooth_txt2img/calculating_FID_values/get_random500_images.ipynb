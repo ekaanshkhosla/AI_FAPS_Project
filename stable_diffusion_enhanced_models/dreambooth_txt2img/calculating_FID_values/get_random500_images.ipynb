{
 "cells": [
  {
   "cell_type": "code",
   "execution_count": 16,
   "id": "f51d786f-1e86-4a9e-a9d2-72d86eac1e71",
   "metadata": {},
   "outputs": [
    {
     "name": "stdout",
     "output_type": "stream",
     "text": [
      "500 random images copied successfully to SD_img2img_for_FID_filtered/only_gap!\n"
     ]
    }
   ],
   "source": [
    "import os\n",
    "import shutil\n",
    "import random\n",
    "\n",
    "# Step 1: Define paths\n",
    "new_folder = 'SD_img2img_for_FID/only_gap'  # Replace with the path where the images were copied earlier\n",
    "random_folder = 'SD_img2img_for_FID_filtered/only_gap'  # Replace with the path where you want to copy the 500 random images\n",
    "\n",
    "# Create the random folder if it doesn't exist\n",
    "if not os.path.exists(random_folder):\n",
    "    os.makedirs(random_folder)\n",
    "\n",
    "# Step 2: Get the list of all images in the new folder\n",
    "all_images = [f for f in os.listdir(new_folder) if os.path.isfile(os.path.join(new_folder, f))]\n",
    "\n",
    "# Step 3: Select 500 random images (or fewer if there are less than 500 images)\n",
    "random_images = random.sample(all_images, min(500, len(all_images)))\n",
    "\n",
    "# Step 4: Copy the 500 random images to the new folder\n",
    "for image_name in random_images:\n",
    "    image_path = os.path.join(new_folder, image_name)  # Construct the full image path\n",
    "    shutil.copy(image_path, random_folder)  # Copy the image to the random folder\n",
    "\n",
    "print(f\"{len(random_images)} random images copied successfully to {random_folder}!\")\n"
   ]
  },
  {
   "cell_type": "code",
   "execution_count": null,
   "id": "50950c96-8e4a-4bcc-9855-b69cdef222e1",
   "metadata": {},
   "outputs": [],
   "source": []
  }
 ],
 "metadata": {
  "kernelspec": {
   "display_name": "Python 3 (ipykernel)",
   "language": "python",
   "name": "python3"
  },
  "language_info": {
   "codemirror_mode": {
    "name": "ipython",
    "version": 3
   },
   "file_extension": ".py",
   "mimetype": "text/x-python",
   "name": "python",
   "nbconvert_exporter": "python",
   "pygments_lexer": "ipython3",
   "version": "3.11.7"
  }
 },
 "nbformat": 4,
 "nbformat_minor": 5
}
