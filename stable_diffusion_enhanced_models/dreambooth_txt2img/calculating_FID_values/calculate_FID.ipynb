{
 "cells": [
  {
   "cell_type": "code",
   "execution_count": 5,
   "id": "159b72a4-40d1-44bd-935b-245a6d5d7017",
   "metadata": {},
   "outputs": [
    {
     "name": "stderr",
     "output_type": "stream",
     "text": [
      "Calculating FID for datasets:   0%|                   | 0/8 [00:00<?, ?it/s]"
     ]
    },
    {
     "name": "stdout",
     "output_type": "stream",
     "text": [
      "Processing dataset: all_defect\n"
     ]
    },
    {
     "name": "stderr",
     "output_type": "stream",
     "text": [
      "Calculating FID for datasets:  12%|█▍         | 1/8 [00:24<02:51, 24.54s/it]"
     ]
    },
    {
     "name": "stdout",
     "output_type": "stream",
     "text": [
      "FID for all_defect: 82.89404468934539\n",
      "Processing dataset: double_crossing\n"
     ]
    },
    {
     "name": "stderr",
     "output_type": "stream",
     "text": [
      "Calculating FID for datasets:  25%|██▊        | 2/8 [00:43<02:08, 21.39s/it]"
     ]
    },
    {
     "name": "stdout",
     "output_type": "stream",
     "text": [
      "FID for double_crossing: 128.7517346948915\n",
      "Processing dataset: gap_crossing\n"
     ]
    },
    {
     "name": "stderr",
     "output_type": "stream",
     "text": [
      "Calculating FID for datasets:  38%|████▏      | 3/8 [01:05<01:47, 21.43s/it]"
     ]
    },
    {
     "name": "stdout",
     "output_type": "stream",
     "text": [
      "FID for gap_crossing: 57.58578675341671\n",
      "Processing dataset: gap_double\n"
     ]
    },
    {
     "name": "stderr",
     "output_type": "stream",
     "text": [
      "Calculating FID for datasets:  50%|█████▌     | 4/8 [01:18<01:13, 18.41s/it]"
     ]
    },
    {
     "name": "stdout",
     "output_type": "stream",
     "text": [
      "FID for gap_double: 89.86304416336476\n",
      "Processing dataset: no_defect\n"
     ]
    },
    {
     "name": "stderr",
     "output_type": "stream",
     "text": [
      "Calculating FID for datasets:  62%|██████▉    | 5/8 [01:29<00:46, 15.44s/it]"
     ]
    },
    {
     "name": "stdout",
     "output_type": "stream",
     "text": [
      "FID for no_defect: 67.86065848521105\n",
      "Processing dataset: only_crossing\n"
     ]
    },
    {
     "name": "stderr",
     "output_type": "stream",
     "text": [
      "Calculating FID for datasets:  75%|████████▎  | 6/8 [01:38<00:26, 13.46s/it]"
     ]
    },
    {
     "name": "stdout",
     "output_type": "stream",
     "text": [
      "FID for only_crossing: 146.8109826031206\n",
      "Processing dataset: only_double\n"
     ]
    },
    {
     "name": "stderr",
     "output_type": "stream",
     "text": [
      "Calculating FID for datasets:  88%|█████████▋ | 7/8 [02:08<00:18, 18.66s/it]"
     ]
    },
    {
     "name": "stdout",
     "output_type": "stream",
     "text": [
      "FID for only_double: 68.6564465421372\n",
      "Processing dataset: only_gap\n"
     ]
    },
    {
     "name": "stderr",
     "output_type": "stream",
     "text": [
      "Calculating FID for datasets: 100%|███████████| 8/8 [02:32<00:00, 19.04s/it]"
     ]
    },
    {
     "name": "stdout",
     "output_type": "stream",
     "text": [
      "FID for only_gap: 87.90062747689208\n",
      "FID values have been saved to fid_values_dreambooth_txt2img.csv\n"
     ]
    },
    {
     "name": "stderr",
     "output_type": "stream",
     "text": [
      "\n"
     ]
    }
   ],
   "source": [
    "import numpy as np\n",
    "import torch\n",
    "from torch.nn.functional import adaptive_avg_pool2d\n",
    "from torchvision.models import inception_v3\n",
    "from torchvision import transforms\n",
    "from scipy.linalg import sqrtm\n",
    "from torch.utils.data import Dataset, DataLoader, random_split\n",
    "from PIL import Image\n",
    "import os\n",
    "import random\n",
    "import csv\n",
    "from tqdm import tqdm\n",
    "\n",
    "# Function to calculate FID\n",
    "def calculate_fid(real_images, generated_images, device):\n",
    "    # Load the InceptionV3 model pre-trained on ImageNet\n",
    "    model = inception_v3(pretrained=True, transform_input=True).to(device)\n",
    "    model.fc = torch.nn.Identity()  # Remove the final classification layer\n",
    "    model.eval()\n",
    "\n",
    "    def get_activations(images):\n",
    "        with torch.no_grad():\n",
    "            # Resize and preprocess images\n",
    "            images = adaptive_avg_pool2d(images, (299, 299))\n",
    "            activations = model(images)\n",
    "        return activations\n",
    "\n",
    "    # Get the feature vectors for both sets of images\n",
    "    real_features = get_activations(real_images).cpu().numpy()\n",
    "    generated_features = get_activations(generated_images).cpu().numpy()\n",
    "\n",
    "    # Calculate the mean and covariance of the features\n",
    "    mu_real, sigma_real = np.mean(real_features, axis=0), np.cov(real_features, rowvar=False)\n",
    "    mu_generated, sigma_generated = np.mean(generated_features, axis=0), np.cov(generated_features, rowvar=False)\n",
    "\n",
    "    # Calculate the Fréchet distance\n",
    "    diff = mu_real - mu_generated\n",
    "    covmean, _ = sqrtm(sigma_real.dot(sigma_generated), disp=False)\n",
    "\n",
    "    # Check for numerical issues\n",
    "    if np.iscomplexobj(covmean):\n",
    "        covmean = covmean.real\n",
    "\n",
    "    fid = np.sum(diff**2) + np.trace(sigma_real + sigma_generated - 2 * covmean)\n",
    "    return fid\n",
    "\n",
    "class SingleClassImageFolder(Dataset):\n",
    "    def __init__(self, root, transform=None):\n",
    "        self.root = root\n",
    "        self.transform = transform\n",
    "        self.images = [os.path.join(root, file) for file in os.listdir(root) if file.endswith(('png', 'jpg', 'jpeg'))]\n",
    "\n",
    "    def __len__(self):\n",
    "        return len(self.images)\n",
    "\n",
    "    def __getitem__(self, idx):\n",
    "        img_path = self.images[idx]\n",
    "        image = Image.open(img_path).convert('RGB')\n",
    "        if self.transform:\n",
    "            image = self.transform(image)\n",
    "        return image\n",
    "\n",
    "# Transform for the images\n",
    "transform = transforms.Compose([\n",
    "    transforms.Resize((299, 299)),\n",
    "    transforms.ToTensor(),\n",
    "    transforms.Normalize(mean=[0.485, 0.456, 0.406], std=[0.229, 0.224, 0.225]),\n",
    "])\n",
    "\n",
    "# Dataset directories to loop through\n",
    "dataset_names = ['all_defect', 'double_crossing', 'gap_crossing', 'gap_double', 'no_defect', 'only_crossing', 'only_double', 'only_gap']\n",
    "\n",
    "# Set the seed for reproducibility\n",
    "seed_value = 42\n",
    "random.seed(seed_value)\n",
    "torch.manual_seed(seed_value)\n",
    "\n",
    "# Prepare CSV to save FID values\n",
    "csv_file = 'fid_values_dreambooth_txt2img.csv'\n",
    "\n",
    "with open(csv_file, mode='w', newline='') as file:\n",
    "    writer = csv.writer(file)\n",
    "    writer.writerow(['Defect Type', 'FID Value'])  # Write header\n",
    "\n",
    "    # Use tqdm to show progress bar\n",
    "    for dataset_name in tqdm(dataset_names, desc=\"Calculating FID for datasets\"):\n",
    "        print(f\"Processing dataset: {dataset_name}\")\n",
    "        \n",
    "        # Load datasets from directories\n",
    "        real_images_dir = f'traing_data_for_FID_filtered/{dataset_name}'\n",
    "        generated_images_dir = f'dreambooth_txt2img_for_FID_resized/{dataset_name}'\n",
    "\n",
    "        real_dataset = SingleClassImageFolder(root=real_images_dir, transform=transform)\n",
    "        generated_dataset = SingleClassImageFolder(root=generated_images_dir, transform=transform)\n",
    "\n",
    "        # Randomly select a subset of 100 images\n",
    "        subset_size = 100\n",
    "        real_subset, _ = random_split(real_dataset, [subset_size, len(real_dataset) - subset_size])\n",
    "        generated_subset, _ = random_split(generated_dataset, [subset_size, len(generated_dataset) - subset_size])\n",
    "\n",
    "        real_loader = DataLoader(real_subset, batch_size=subset_size, shuffle=False)\n",
    "        generated_loader = DataLoader(generated_subset, batch_size=subset_size, shuffle=False)\n",
    "\n",
    "        # Get real and generated images\n",
    "        real_images = next(iter(real_loader))\n",
    "        generated_images = next(iter(generated_loader))\n",
    "\n",
    "        # Move images to the same device as the model\n",
    "        device = torch.device('cuda' if torch.cuda.is_available() else 'cpu')\n",
    "        real_images = real_images.to(device)\n",
    "        generated_images = generated_images.to(device)\n",
    "\n",
    "        # Calculate FID\n",
    "        fid_value = calculate_fid(real_images, generated_images, device)\n",
    "        \n",
    "        # Output the FID value for the current dataset\n",
    "        print(f\"FID for {dataset_name}: {fid_value}\")\n",
    "        \n",
    "        # Write the dataset name and FID value to the CSV file\n",
    "        writer.writerow([dataset_name, fid_value])\n",
    "\n",
    "print(f\"FID values have been saved to {csv_file}\")\n"
   ]
  },
  {
   "cell_type": "code",
   "execution_count": null,
   "id": "57d0db47",
   "metadata": {},
   "outputs": [],
   "source": []
  },
  {
   "cell_type": "code",
   "execution_count": null,
   "id": "860d5f03",
   "metadata": {},
   "outputs": [],
   "source": []
  },
  {
   "cell_type": "code",
   "execution_count": null,
   "id": "e743d20f-6a5c-4ab8-a4fc-a5b1bab5ebf4",
   "metadata": {},
   "outputs": [],
   "source": []
  },
  {
   "cell_type": "code",
   "execution_count": null,
   "id": "c5989372-da11-42de-ac88-7a97d627ae97",
   "metadata": {},
   "outputs": [],
   "source": []
  },
  {
   "cell_type": "code",
   "execution_count": null,
   "id": "57cac70c-1473-4f50-9d13-f84ac26a05c0",
   "metadata": {},
   "outputs": [],
   "source": []
  }
 ],
 "metadata": {
  "kernelspec": {
   "display_name": "Python 3 (ipykernel)",
   "language": "python",
   "name": "python3"
  },
  "language_info": {
   "codemirror_mode": {
    "name": "ipython",
    "version": 3
   },
   "file_extension": ".py",
   "mimetype": "text/x-python",
   "name": "python",
   "nbconvert_exporter": "python",
   "pygments_lexer": "ipython3",
   "version": "3.11.5"
  }
 },
 "nbformat": 4,
 "nbformat_minor": 5
}
